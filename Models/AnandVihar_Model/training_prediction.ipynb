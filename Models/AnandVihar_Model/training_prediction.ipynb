{
 "cells": [
  {
   "cell_type": "code",
   "execution_count": 6,
   "metadata": {},
   "outputs": [
    {
     "name": "stdout",
     "output_type": "stream",
     "text": [
      "Random Forest - RMSE: 0.01, R²: 1.00\n",
      "SVM - RMSE: 7.17, R²: 0.96\n",
      "KNN - RMSE: 5.66, R²: 0.98\n",
      "Voting Regressor - RMSE: 3.74, R²: 0.99\n",
      "Best Model: Random Forest with RMSE: 0.005567007450193569\n"
     ]
    }
   ],
   "source": [
    "import pandas as pd\n",
    "from sklearn.model_selection import train_test_split\n",
    "from sklearn.ensemble import RandomForestRegressor, VotingRegressor\n",
    "from sklearn.svm import SVR\n",
    "from sklearn.neighbors import KNeighborsRegressor\n",
    "from sklearn.metrics import mean_squared_error, r2_score\n",
    "from sklearn.preprocessing import StandardScaler\n",
    "from sklearn.impute import SimpleImputer\n",
    "import joblib\n",
    "\n",
    "# Load data\n",
    "data = pd.read_csv(r'C:\\Aditya\\Python\\Khushi Project\\AQI Files\\AnandVihar_AQI_2018_2023.csv')\n",
    "\n",
    "# Check for missing values and handle them\n",
    "if data.isnull().any().any():\n",
    "    # Impute missing values, here using the mean of each column\n",
    "    imputer = SimpleImputer(strategy='mean')\n",
    "    data[['PM2.5', 'PM10', 'CO', 'NO2', 'SO2', 'Ozone']] = imputer.fit_transform(data[['PM2.5', 'PM10', 'CO', 'NO2', 'SO2', 'Ozone']])\n",
    "\n",
    "# Feature scaling\n",
    "scaler = StandardScaler()\n",
    "features = scaler.fit_transform(data[['PM2.5', 'PM10', 'CO', 'NO2', 'SO2', 'Ozone']])\n",
    "\n",
    "# Splitting the dataset\n",
    "X_train, X_test, y_train, y_test = train_test_split(features, data['Overall AQI'], test_size=0.5, random_state=42)\n",
    "\n",
    "# Initialize models\n",
    "rf_model = RandomForestRegressor(n_estimators=50, max_depth=10, random_state=40)\n",
    "svm_model = SVR(kernel='rbf',C=1.0)\n",
    "knn_model = KNeighborsRegressor(n_neighbors=5)\n",
    "\n",
    "# Voting Regressor setup\n",
    "voting_regressor = VotingRegressor(estimators=[('rf', rf_model), ('svm', svm_model), ('knn', knn_model)])\n",
    "\n",
    "# Fit models\n",
    "rf_model.fit(X_train, y_train)\n",
    "svm_model.fit(X_train, y_train)\n",
    "knn_model.fit(X_train, y_train)\n",
    "voting_regressor.fit(X_train, y_train)\n",
    "\n",
    "# Evaluate models\n",
    "def evaluate_model(model, X_test, y_test):\n",
    "    predictions = model.predict(X_test)\n",
    "    mse = mean_squared_error(y_test, predictions)\n",
    "    rmse = mse ** 0.5\n",
    "    r2 = r2_score(y_test, predictions)\n",
    "    return rmse, r2\n",
    "\n",
    "results = {}\n",
    "models = ['Random Forest', 'SVM', 'KNN', 'Voting Regressor']\n",
    "for name, model in zip(models, [rf_model, svm_model, knn_model, voting_regressor]):\n",
    "    rmse, r2 = evaluate_model(model, X_test, y_test)\n",
    "    results[name] = {'RMSE': rmse, 'R²': r2}\n",
    "\n",
    "# Display results\n",
    "for model_name, metrics in results.items():\n",
    "    print(f\"{model_name} - RMSE: {metrics['RMSE']:.2f}, R²: {metrics['R²']:.2f}\")\n",
    "\n",
    "# Determine the best model based on RMSE\n",
    "best_model, best_rmse = min([(name, metrics['RMSE']) for name, metrics in results.items()], key=lambda x: x[1])\n",
    "print(f\"Best Model: {best_model} with RMSE: {best_rmse}\")\n",
    "\n",
    "\n"
   ]
  },
  {
   "cell_type": "code",
   "execution_count": 12,
   "metadata": {},
   "outputs": [],
   "source": [
    "import pandas as pd\n",
    "from sklearn.model_selection import train_test_split\n",
    "from sklearn.ensemble import RandomForestRegressor, VotingRegressor\n",
    "from sklearn.svm import SVR\n",
    "from sklearn.neighbors import KNeighborsRegressor\n",
    "from sklearn.metrics import mean_squared_error\n",
    "from sklearn.preprocessing import StandardScaler\n",
    "from sklearn.impute import SimpleImputer\n",
    "import joblib"
   ]
  },
  {
   "cell_type": "code",
   "execution_count": 13,
   "metadata": {},
   "outputs": [],
   "source": [
    "#call the ML model\n",
    "import joblib\n",
    "import numpy as np\n",
    "model = joblib.load('C:\\Aditya\\Python\\Khushi Project\\Models\\AnandVihar_Model\\Random Forest_best_model.pkl')"
   ]
  },
  {
   "cell_type": "code",
   "execution_count": 18,
   "metadata": {},
   "outputs": [
    {
     "name": "stdout",
     "output_type": "stream",
     "text": [
      "Predicted AQI: 400.0\n"
     ]
    },
    {
     "name": "stderr",
     "output_type": "stream",
     "text": [
      "c:\\Users\\jetha\\AppData\\Local\\Programs\\Python\\Python311\\Lib\\site-packages\\sklearn\\base.py:493: UserWarning: X does not have valid feature names, but StandardScaler was fitted with feature names\n",
      "  warnings.warn(\n"
     ]
    }
   ],
   "source": [
    "#make prediction by takimg input from user\n",
    "features = np.array([[754.0,999,7.77,127.13,19.75,24.91]])\n",
    "scaled_features = scaler.transform(features)\n",
    "prediction = model.predict(scaled_features)\n",
    "print(f\"Predicted AQI: {prediction[0]}\")\n"
   ]
  },
  {
   "cell_type": "code",
   "execution_count": 9,
   "metadata": {},
   "outputs": [
    {
     "name": "stdout",
     "output_type": "stream",
     "text": [
      "Predicted AQI: 333.4253779069765\n"
     ]
    },
    {
     "name": "stderr",
     "output_type": "stream",
     "text": [
      "c:\\Users\\jetha\\AppData\\Local\\Programs\\Python\\Python311\\Lib\\site-packages\\sklearn\\base.py:493: UserWarning: X does not have valid feature names, but StandardScaler was fitted with feature names\n",
      "  warnings.warn(\n"
     ]
    }
   ],
   "source": [
    "#make prediction by takimg input from user\n",
    "features = np.array([[163.25,249.0,1.6275,53.8,4.375,17.6]])\n",
    "scaled_features = scaler.transform(features)\n",
    "prediction = model.predict(scaled_features)\n",
    "print(f\"Predicted AQI: {prediction[0]}\")\n"
   ]
  },
  {
   "cell_type": "code",
   "execution_count": null,
   "metadata": {},
   "outputs": [],
   "source": []
  },
  {
   "cell_type": "code",
   "execution_count": null,
   "metadata": {},
   "outputs": [],
   "source": [
    "#m"
   ]
  }
 ],
 "metadata": {
  "kernelspec": {
   "display_name": "Python 3",
   "language": "python",
   "name": "python3"
  },
  "language_info": {
   "codemirror_mode": {
    "name": "ipython",
    "version": 3
   },
   "file_extension": ".py",
   "mimetype": "text/x-python",
   "name": "python",
   "nbconvert_exporter": "python",
   "pygments_lexer": "ipython3",
   "version": "3.11.6"
  }
 },
 "nbformat": 4,
 "nbformat_minor": 2
}
