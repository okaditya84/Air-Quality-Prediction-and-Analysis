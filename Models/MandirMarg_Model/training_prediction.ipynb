{
 "cells": [
  {
   "cell_type": "code",
   "execution_count": 1,
   "metadata": {},
   "outputs": [
    {
     "name": "stdout",
     "output_type": "stream",
     "text": [
      "Best Model: Random Forest with RMSE: 0.00511425092421702\n"
     ]
    },
    {
     "data": {
      "text/plain": [
       "['Random Forest_best_model.pkl']"
      ]
     },
     "execution_count": 1,
     "metadata": {},
     "output_type": "execute_result"
    }
   ],
   "source": [
    "import pandas as pd\n",
    "from sklearn.model_selection import train_test_split\n",
    "from sklearn.ensemble import RandomForestRegressor, VotingRegressor\n",
    "from sklearn.svm import SVR\n",
    "from sklearn.neighbors import KNeighborsRegressor\n",
    "from sklearn.metrics import mean_squared_error\n",
    "from sklearn.preprocessing import StandardScaler\n",
    "from sklearn.impute import SimpleImputer\n",
    "import joblib\n",
    "\n",
    "# Load data\n",
    "data = pd.read_csv('C:\\Aditya\\Python\\Khushi Project\\AQI Files\\MandirMarg_AQI_2018_2023.csv')\n",
    "\n",
    "# Check for missing values and handle them\n",
    "if data.isnull().any().any():\n",
    "    # Option 1: Remove rows with missing values\n",
    "    # data = data.dropna()\n",
    "\n",
    "    # Option 2: Impute missing values, here using the mean of each column\n",
    "    imputer = SimpleImputer(strategy='mean')\n",
    "    data[['PM2.5', 'PM10', 'CO', 'NO2', 'SO2', 'Ozone']] = imputer.fit_transform(data[['PM2.5', 'PM10', 'CO', 'NO2', 'SO2', 'Ozone']])\n",
    "\n",
    "# Feature scaling\n",
    "scaler = StandardScaler()\n",
    "features = scaler.fit_transform(data[['PM2.5', 'PM10', 'CO', 'NO2', 'SO2', 'Ozone']])\n",
    "\n",
    "# Splitting the dataset\n",
    "X_train, X_test, y_train, y_test = train_test_split(features, data['Overall AQI'], test_size=0.3, random_state=42)\n",
    "\n",
    "# Initialize models\n",
    "rf_model = RandomForestRegressor(n_estimators=50, random_state=42)\n",
    "svm_model = SVR(kernel='rbf')\n",
    "knn_model = KNeighborsRegressor(n_neighbors=5)\n",
    "\n",
    "# Voting Regressor setup\n",
    "voting_regressor = VotingRegressor(estimators=[('rf', rf_model), ('svm', svm_model), ('knn', knn_model)])\n",
    "\n",
    "# Fit models\n",
    "rf_model.fit(X_train, y_train)\n",
    "svm_model.fit(X_train, y_train)\n",
    "knn_model.fit(X_train, y_train)\n",
    "voting_regressor.fit(X_train, y_train)\n",
    "\n",
    "# Evaluate models\n",
    "def evaluate_model(model, X_test, y_test):\n",
    "    predictions = model.predict(X_test)\n",
    "    mse = mean_squared_error(y_test, predictions)\n",
    "    rmse = mse ** 0.5\n",
    "    return rmse\n",
    "\n",
    "rmse_rf = evaluate_model(rf_model, X_test, y_test)\n",
    "rmse_svm = evaluate_model(svm_model, X_test, y_test)\n",
    "rmse_knn = evaluate_model(knn_model, X_test, y_test)\n",
    "rmse_voting = evaluate_model(voting_regressor, X_test, y_test)\n",
    "\n",
    "# Determine the best model based on RMSE\n",
    "best_model, best_rmse = min([\n",
    "    ('Random Forest', rmse_rf),\n",
    "    ('SVM', rmse_svm),\n",
    "    ('KNN', rmse_knn),\n",
    "    ('Voting Regressor', rmse_voting)\n",
    "], key=lambda x: x[1])\n",
    "\n",
    "print(f\"Best Model: {best_model} with RMSE: {best_rmse}\")\n",
    "\n",
    "# Save the best model\n",
    "models = {'Random Forest': rf_model, 'SVM': svm_model, 'KNN': knn_model, 'Voting Regressor': voting_regressor}\n",
    "joblib.dump(models[best_model], f'{best_model}_best_model.pkl')\n"
   ]
  },
  {
   "cell_type": "code",
   "execution_count": 2,
   "metadata": {},
   "outputs": [],
   "source": [
    "#call the ML model\n",
    "import joblib\n",
    "import numpy as np\n",
    "model = joblib.load('C:\\Aditya\\Python\\Khushi Project\\Models\\MandirMarg_Model\\Random Forest_best_model.pkl')"
   ]
  },
  {
   "cell_type": "code",
   "execution_count": 4,
   "metadata": {},
   "outputs": [
    {
     "name": "stdout",
     "output_type": "stream",
     "text": [
      "Predicted AQI: 328.6279069767442\n"
     ]
    },
    {
     "name": "stderr",
     "output_type": "stream",
     "text": [
      "c:\\Users\\jetha\\AppData\\Local\\Programs\\Python\\Python311\\Lib\\site-packages\\sklearn\\base.py:493: UserWarning: X does not have valid feature names, but StandardScaler was fitted with feature names\n",
      "  warnings.warn(\n"
     ]
    }
   ],
   "source": [
    "#make prediction by takimg input from user\n",
    "features = np.array([[157.1,198.5998738622873,0.18,40.68,21.96,23.370162676287308]])\n",
    "scaled_features = scaler.transform(features)\n",
    "prediction = model.predict(scaled_features)\n",
    "print(f\"Predicted AQI: {prediction[0]}\")\n"
   ]
  },
  {
   "cell_type": "code",
   "execution_count": 5,
   "metadata": {},
   "outputs": [
    {
     "name": "stdout",
     "output_type": "stream",
     "text": [
      "Predicted AQI: 301.0\n"
     ]
    },
    {
     "name": "stderr",
     "output_type": "stream",
     "text": [
      "c:\\Users\\jetha\\AppData\\Local\\Programs\\Python\\Python311\\Lib\\site-packages\\sklearn\\base.py:493: UserWarning: X does not have valid feature names, but StandardScaler was fitted with feature names\n",
      "  warnings.warn(\n"
     ]
    }
   ],
   "source": [
    "#make prediction by takimg input from user\n",
    "features = np.array([[90.55,198.5998738622873,0.23,19.63,16.34,23.370162676287308]])\n",
    "scaled_features = scaler.transform(features)\n",
    "prediction = model.predict(scaled_features)\n",
    "print(f\"Predicted AQI: {prediction[0]}\")\n"
   ]
  },
  {
   "cell_type": "code",
   "execution_count": null,
   "metadata": {},
   "outputs": [],
   "source": []
  },
  {
   "cell_type": "code",
   "execution_count": null,
   "metadata": {},
   "outputs": [],
   "source": [
    "#m"
   ]
  }
 ],
 "metadata": {
  "kernelspec": {
   "display_name": "Python 3",
   "language": "python",
   "name": "python3"
  },
  "language_info": {
   "codemirror_mode": {
    "name": "ipython",
    "version": 3
   },
   "file_extension": ".py",
   "mimetype": "text/x-python",
   "name": "python",
   "nbconvert_exporter": "python",
   "pygments_lexer": "ipython3",
   "version": "3.11.6"
  }
 },
 "nbformat": 4,
 "nbformat_minor": 2
}
