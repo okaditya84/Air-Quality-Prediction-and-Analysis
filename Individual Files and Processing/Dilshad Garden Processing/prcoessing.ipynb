{
 "cells": [
  {
   "cell_type": "markdown",
   "metadata": {},
   "source": [
    "## Removing Unwanted columns"
   ]
  },
  {
   "cell_type": "code",
   "execution_count": 33,
   "metadata": {},
   "outputs": [],
   "source": [
    "import pandas as pd\n",
    "\n",
    "# Load the CSV file\n",
    "df = pd.read_csv(\"C:\\Aditya\\Python\\Khushi Project\\Dwarka Processing\\Raw_data_1Hr_2023_site_1422_Dwarka-Sector_8_Delhi_DPCC__1Hr.csv\")\n",
    "\n",
    "# Keep only the specified columns\n",
    "columns_to_keep = [\"Timestamp\",\"PM2.5 (µg/m³)\", \"PM10 (µg/m³)\", \"CO (mg/m³)\", \"NO2 (µg/m³)\", \"SO2 (µg/m³)\", \"Ozone (µg/m³)\"]\n",
    "df = df[columns_to_keep]\n",
    "\n",
    "# Save the modified DataFrame to a new CSV file\n",
    "df.to_csv(\"C:\\Aditya\\Python\\Khushi Project\\Dwarka Processing\\Raw_data_1Hr_2023_site_1422_Dwarka-Sector_8_Delhi_DPCC__1Hr.csv\", index=False)\n"
   ]
  },
  {
   "cell_type": "markdown",
   "metadata": {},
   "source": [
    "## Renaming Column names"
   ]
  },
  {
   "cell_type": "code",
   "execution_count": 34,
   "metadata": {},
   "outputs": [],
   "source": [
    "#modify the column names to PM2.5, PM10, CO, NO2, SO2, Ozone\n",
    "df.columns = [\"Time Stamp\",\"PM2.5\", \"PM10\", \"CO\", \"NO2\", \"SO2\", \"Ozone\"]\n",
    "df.to_csv(\"C:\\Aditya\\Python\\Khushi Project\\Dwarka Processing\\Raw_data_1Hr_2023_site_1422_Dwarka-Sector_8_Delhi_DPCC__1Hr.csv\", index=False)"
   ]
  },
  {
   "cell_type": "markdown",
   "metadata": {},
   "source": [
    "## Combining all files"
   ]
  },
  {
   "cell_type": "code",
   "execution_count": 10,
   "metadata": {},
   "outputs": [],
   "source": [
    "import pandas as pd\n",
    "import glob\n",
    "\n",
    "# List all CSV files in the directory\n",
    "file_list = glob.glob(\"*.csv\")\n",
    "\n",
    "# Initialize an empty list to store DataFrames\n",
    "dfs = []\n",
    "\n",
    "# Iterate over each file, read it, and append it to the list\n",
    "for file in file_list:\n",
    "    df = pd.read_csv(file)\n",
    "    dfs.append(df)\n",
    "\n",
    "# Concatenate all DataFrames in the list\n",
    "combined_df = pd.concat(dfs, ignore_index=True)\n",
    "\n",
    "# Save the combined DataFrame to a new CSV file\n",
    "combined_df.to_csv(\"DilshadGarden_2018_2023.csv\", index=False)\n"
   ]
  },
  {
   "cell_type": "markdown",
   "metadata": {},
   "source": [
    "## checking null values"
   ]
  },
  {
   "cell_type": "code",
   "execution_count": 14,
   "metadata": {},
   "outputs": [
    {
     "data": {
      "text/plain": [
       "Time Stamp        0\n",
       "PM2.5             0\n",
       "PM10          22260\n",
       "CO                0\n",
       "NO2               0\n",
       "SO2               0\n",
       "Ozone         22094\n",
       "dtype: int64"
      ]
     },
     "execution_count": 14,
     "metadata": {},
     "output_type": "execute_result"
    }
   ],
   "source": [
    "#count the null values in each column\n",
    "combined_df.isnull().sum()"
   ]
  },
  {
   "cell_type": "markdown",
   "metadata": {},
   "source": [
    "## Interpolating missing values"
   ]
  },
  {
   "cell_type": "code",
   "execution_count": 15,
   "metadata": {},
   "outputs": [
    {
     "name": "stderr",
     "output_type": "stream",
     "text": [
      "C:\\Users\\jetha\\AppData\\Local\\Temp\\ipykernel_27252\\3858910929.py:2: FutureWarning: DataFrame.interpolate with object dtype is deprecated and will raise in a future version. Call obj.infer_objects(copy=False) before interpolating instead.\n",
      "  combined_df = combined_df.interpolate()\n"
     ]
    }
   ],
   "source": [
    "#interpolate the missing values\n",
    "combined_df = combined_df.interpolate()\n"
   ]
  },
  {
   "cell_type": "code",
   "execution_count": 19,
   "metadata": {},
   "outputs": [
    {
     "data": {
      "text/plain": [
       "Time Stamp    0\n",
       "PM2.5         0\n",
       "PM10          0\n",
       "CO            0\n",
       "NO2           0\n",
       "SO2           0\n",
       "Ozone         0\n",
       "dtype: int64"
      ]
     },
     "execution_count": 19,
     "metadata": {},
     "output_type": "execute_result"
    }
   ],
   "source": [
    "#count the null values in each column\n",
    "combined_df.isnull().sum()"
   ]
  },
  {
   "cell_type": "code",
   "execution_count": 21,
   "metadata": {},
   "outputs": [],
   "source": [
    "#read MandirMarg_2018_2023.csv\n",
    "combined_df.to_csv(\"DilshadGarden_2018_2023.csv\", index=False)"
   ]
  },
  {
   "cell_type": "code",
   "execution_count": null,
   "metadata": {},
   "outputs": [],
   "source": []
  }
 ],
 "metadata": {
  "kernelspec": {
   "display_name": "Python 3",
   "language": "python",
   "name": "python3"
  },
  "language_info": {
   "codemirror_mode": {
    "name": "ipython",
    "version": 3
   },
   "file_extension": ".py",
   "mimetype": "text/x-python",
   "name": "python",
   "nbconvert_exporter": "python",
   "pygments_lexer": "ipython3",
   "version": "3.11.6"
  }
 },
 "nbformat": 4,
 "nbformat_minor": 2
}
