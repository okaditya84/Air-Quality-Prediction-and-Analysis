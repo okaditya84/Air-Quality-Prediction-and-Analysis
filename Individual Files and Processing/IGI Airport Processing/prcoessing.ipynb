{
 "cells": [
  {
   "cell_type": "markdown",
   "metadata": {},
   "source": [
    "## Removing Unwanted columns"
   ]
  },
  {
   "cell_type": "code",
   "execution_count": 11,
   "metadata": {},
   "outputs": [],
   "source": [
    "import pandas as pd\n",
    "\n",
    "# Load the CSV file\n",
    "df = pd.read_csv(\"C:\\Aditya\\Python\\Khushi Project\\IGI Airport Processing\\Raw_data_1Hr_2023_site_106_IGI_Airport_(T3)_Delhi_IMD_1Hr.csv\")\n",
    "\n",
    "# Keep only the specified columns\n",
    "columns_to_keep = [\"Timestamp\",\"PM2.5 (µg/m³)\", \"PM10 (µg/m³)\", \"CO (mg/m³)\", \"NO2 (µg/m³)\", \"SO2 (µg/m³)\", \"Ozone (µg/m³)\"]\n",
    "df = df[columns_to_keep]\n",
    "\n",
    "# Save the modified DataFrame to a new CSV file\n",
    "df.to_csv(\"C:\\Aditya\\Python\\Khushi Project\\IGI Airport Processing\\Raw_data_1Hr_2023_site_106_IGI_Airport_(T3)_Delhi_IMD_1Hr.csv\", index=False)\n"
   ]
  },
  {
   "cell_type": "markdown",
   "metadata": {},
   "source": [
    "## Renaming Column names"
   ]
  },
  {
   "cell_type": "code",
   "execution_count": 12,
   "metadata": {},
   "outputs": [],
   "source": [
    "#modify the column names to PM2.5, PM10, CO, NO2, SO2, Ozone\n",
    "df.columns = [\"Time Stamp\",\"PM2.5\", \"PM10\", \"CO\", \"NO2\", \"SO2\", \"Ozone\"]\n",
    "df.to_csv(\"C:\\Aditya\\Python\\Khushi Project\\IGI Airport Processing\\Raw_data_1Hr_2023_site_106_IGI_Airport_(T3)_Delhi_IMD_1Hr.csv\", index=False)"
   ]
  },
  {
   "cell_type": "markdown",
   "metadata": {},
   "source": [
    "## Combining all files"
   ]
  },
  {
   "cell_type": "code",
   "execution_count": 13,
   "metadata": {},
   "outputs": [],
   "source": [
    "import pandas as pd\n",
    "import glob\n",
    "\n",
    "# List all CSV files in the directory\n",
    "file_list = glob.glob(\"*.csv\")\n",
    "\n",
    "# Initialize an empty list to store DataFrames\n",
    "dfs = []\n",
    "\n",
    "# Iterate over each file, read it, and append it to the list\n",
    "for file in file_list:\n",
    "    df = pd.read_csv(file)\n",
    "    dfs.append(df)\n",
    "\n",
    "# Concatenate all DataFrames in the list\n",
    "combined_df = pd.concat(dfs, ignore_index=True)\n",
    "\n",
    "# Save the combined DataFrame to a new CSV file\n",
    "combined_df.to_csv(\"IGIAirport_2018_2023.csv\", index=False)\n"
   ]
  },
  {
   "cell_type": "markdown",
   "metadata": {},
   "source": [
    "## checking null values"
   ]
  },
  {
   "cell_type": "code",
   "execution_count": 14,
   "metadata": {},
   "outputs": [
    {
     "data": {
      "text/plain": [
       "Time Stamp        0\n",
       "PM2.5          5057\n",
       "PM10           4795\n",
       "CO             4879\n",
       "NO2            7118\n",
       "SO2           52584\n",
       "Ozone          4504\n",
       "dtype: int64"
      ]
     },
     "execution_count": 14,
     "metadata": {},
     "output_type": "execute_result"
    }
   ],
   "source": [
    "#count the null values in each column\n",
    "combined_df.isnull().sum()"
   ]
  },
  {
   "cell_type": "markdown",
   "metadata": {},
   "source": [
    "## Interpolating missing values"
   ]
  },
  {
   "cell_type": "code",
   "execution_count": 15,
   "metadata": {},
   "outputs": [
    {
     "name": "stderr",
     "output_type": "stream",
     "text": [
      "C:\\Users\\jetha\\AppData\\Local\\Temp\\ipykernel_31164\\3858910929.py:2: FutureWarning: DataFrame.interpolate with object dtype is deprecated and will raise in a future version. Call obj.infer_objects(copy=False) before interpolating instead.\n",
      "  combined_df = combined_df.interpolate()\n"
     ]
    }
   ],
   "source": [
    "#interpolate the missing values\n",
    "combined_df = combined_df.interpolate()\n"
   ]
  },
  {
   "cell_type": "code",
   "execution_count": 16,
   "metadata": {},
   "outputs": [
    {
     "data": {
      "text/plain": [
       "Time Stamp        0\n",
       "PM2.5             0\n",
       "PM10              0\n",
       "CO                0\n",
       "NO2               0\n",
       "SO2           52584\n",
       "Ozone             0\n",
       "dtype: int64"
      ]
     },
     "execution_count": 16,
     "metadata": {},
     "output_type": "execute_result"
    }
   ],
   "source": [
    "#count the null values in each column\n",
    "combined_df.isnull().sum()"
   ]
  },
  {
   "cell_type": "code",
   "execution_count": 17,
   "metadata": {},
   "outputs": [
    {
     "name": "stderr",
     "output_type": "stream",
     "text": [
      "C:\\Users\\jetha\\AppData\\Local\\Temp\\ipykernel_31164\\1367829740.py:2: FutureWarning: A value is trying to be set on a copy of a DataFrame or Series through chained assignment using an inplace method.\n",
      "The behavior will change in pandas 3.0. This inplace method will never work because the intermediate object on which we are setting values always behaves as a copy.\n",
      "\n",
      "For example, when doing 'df[col].method(value, inplace=True)', try using 'df.method({col: value}, inplace=True)' or df[col] = df[col].method(value) instead, to perform the operation inplace on the original object.\n",
      "\n",
      "\n",
      "  combined_df[\"PM2.5\"].fillna(combined_df[\"PM2.5\"].mean(), inplace=True)\n",
      "C:\\Users\\jetha\\AppData\\Local\\Temp\\ipykernel_31164\\1367829740.py:3: FutureWarning: A value is trying to be set on a copy of a DataFrame or Series through chained assignment using an inplace method.\n",
      "The behavior will change in pandas 3.0. This inplace method will never work because the intermediate object on which we are setting values always behaves as a copy.\n",
      "\n",
      "For example, when doing 'df[col].method(value, inplace=True)', try using 'df.method({col: value}, inplace=True)' or df[col] = df[col].method(value) instead, to perform the operation inplace on the original object.\n",
      "\n",
      "\n",
      "  combined_df[\"PM10\"].fillna(combined_df[\"PM10\"].mean(), inplace=True)\n",
      "C:\\Users\\jetha\\AppData\\Local\\Temp\\ipykernel_31164\\1367829740.py:4: FutureWarning: A value is trying to be set on a copy of a DataFrame or Series through chained assignment using an inplace method.\n",
      "The behavior will change in pandas 3.0. This inplace method will never work because the intermediate object on which we are setting values always behaves as a copy.\n",
      "\n",
      "For example, when doing 'df[col].method(value, inplace=True)', try using 'df.method({col: value}, inplace=True)' or df[col] = df[col].method(value) instead, to perform the operation inplace on the original object.\n",
      "\n",
      "\n",
      "  combined_df[\"CO\"].fillna(combined_df[\"CO\"].mean(), inplace=True)\n",
      "C:\\Users\\jetha\\AppData\\Local\\Temp\\ipykernel_31164\\1367829740.py:5: FutureWarning: A value is trying to be set on a copy of a DataFrame or Series through chained assignment using an inplace method.\n",
      "The behavior will change in pandas 3.0. This inplace method will never work because the intermediate object on which we are setting values always behaves as a copy.\n",
      "\n",
      "For example, when doing 'df[col].method(value, inplace=True)', try using 'df.method({col: value}, inplace=True)' or df[col] = df[col].method(value) instead, to perform the operation inplace on the original object.\n",
      "\n",
      "\n",
      "  combined_df[\"NO2\"].fillna(combined_df[\"NO2\"].mean(), inplace=True)\n",
      "C:\\Users\\jetha\\AppData\\Local\\Temp\\ipykernel_31164\\1367829740.py:6: FutureWarning: A value is trying to be set on a copy of a DataFrame or Series through chained assignment using an inplace method.\n",
      "The behavior will change in pandas 3.0. This inplace method will never work because the intermediate object on which we are setting values always behaves as a copy.\n",
      "\n",
      "For example, when doing 'df[col].method(value, inplace=True)', try using 'df.method({col: value}, inplace=True)' or df[col] = df[col].method(value) instead, to perform the operation inplace on the original object.\n",
      "\n",
      "\n",
      "  combined_df[\"SO2\"].fillna(combined_df[\"SO2\"].mean(), inplace=True)\n",
      "C:\\Users\\jetha\\AppData\\Local\\Temp\\ipykernel_31164\\1367829740.py:7: FutureWarning: A value is trying to be set on a copy of a DataFrame or Series through chained assignment using an inplace method.\n",
      "The behavior will change in pandas 3.0. This inplace method will never work because the intermediate object on which we are setting values always behaves as a copy.\n",
      "\n",
      "For example, when doing 'df[col].method(value, inplace=True)', try using 'df.method({col: value}, inplace=True)' or df[col] = df[col].method(value) instead, to perform the operation inplace on the original object.\n",
      "\n",
      "\n",
      "  combined_df[\"Ozone\"].fillna(combined_df[\"Ozone\"].mean(), inplace=True)\n"
     ]
    }
   ],
   "source": [
    "##impute the missing values in PM2.5, PM10, CO, NO2, SO2, Ozone columns with the mean of the respective columns\n",
    "combined_df[\"PM2.5\"].fillna(combined_df[\"PM2.5\"].mean(), inplace=True)\n",
    "combined_df[\"PM10\"].fillna(combined_df[\"PM10\"].mean(), inplace=True)\n",
    "combined_df[\"CO\"].fillna(combined_df[\"CO\"].mean(), inplace=True)\n",
    "combined_df[\"NO2\"].fillna(combined_df[\"NO2\"].mean(), inplace=True)\n",
    "combined_df[\"SO2\"].fillna(combined_df[\"SO2\"].mean(), inplace=True)\n",
    "combined_df[\"Ozone\"].fillna(combined_df[\"Ozone\"].mean(), inplace=True)\n",
    "\n"
   ]
  },
  {
   "cell_type": "code",
   "execution_count": 19,
   "metadata": {},
   "outputs": [],
   "source": [
    "#read MandirMarg_2018_2023.csv\n",
    "combined_df.to_csv(\"IGIAirport_2018_2023.csv\", index=False)"
   ]
  },
  {
   "cell_type": "code",
   "execution_count": null,
   "metadata": {},
   "outputs": [],
   "source": []
  }
 ],
 "metadata": {
  "kernelspec": {
   "display_name": "Python 3",
   "language": "python",
   "name": "python3"
  },
  "language_info": {
   "codemirror_mode": {
    "name": "ipython",
    "version": 3
   },
   "file_extension": ".py",
   "mimetype": "text/x-python",
   "name": "python",
   "nbconvert_exporter": "python",
   "pygments_lexer": "ipython3",
   "version": "3.11.6"
  }
 },
 "nbformat": 4,
 "nbformat_minor": 2
}
