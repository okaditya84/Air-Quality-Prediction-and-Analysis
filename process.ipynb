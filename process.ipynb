{
 "cells": [
  {
   "cell_type": "markdown",
   "metadata": {},
   "source": [
    "## Removing Unwanted columns"
   ]
  },
  {
   "cell_type": "code",
   "execution_count": 16,
   "metadata": {},
   "outputs": [],
   "source": [
    "import pandas as pd\n",
    "\n",
    "# Load the CSV file\n",
    "df = pd.read_csv(\"C:\\Aditya\\Python\\Khushi Project\\Raw_data_1Hr_2023_site_122_Mandir_Marg_Delhi_DPCC_1Hr.csv\")\n",
    "\n",
    "# Keep only the specified columns\n",
    "columns_to_keep = [\"Timestamp\",\"PM2.5 (µg/m³)\", \"PM10 (µg/m³)\", \"CO (mg/m³)\", \"NO2 (µg/m³)\", \"SO2 (µg/m³)\", \"Ozone (µg/m³)\"]\n",
    "df = df[columns_to_keep]\n",
    "\n",
    "# Save the modified DataFrame to a new CSV file\n",
    "df.to_csv(\"C:\\Aditya\\Python\\Khushi Project\\Raw_data_1Hr_2023_site_122_Mandir_Marg_Delhi_DPCC_1Hr.csv\", index=False)\n"
   ]
  },
  {
   "cell_type": "markdown",
   "metadata": {},
   "source": [
    "## Renaming Column names"
   ]
  },
  {
   "cell_type": "code",
   "execution_count": 17,
   "metadata": {},
   "outputs": [],
   "source": [
    "#modify the column names to PM2.5, PM10, CO, NO2, SO2, Ozone\n",
    "df.columns = [\"Time Stamp\",\"PM2.5\", \"PM10\", \"CO\", \"NO2\", \"SO2\", \"Ozone\"]\n",
    "df.to_csv(\"Raw_data_1Hr_2023_site_122_Mandir_Marg_Delhi_DPCC_1Hr.csv\", index=False)"
   ]
  },
  {
   "cell_type": "markdown",
   "metadata": {},
   "source": [
    "## Combining all files"
   ]
  },
  {
   "cell_type": "code",
   "execution_count": 23,
   "metadata": {},
   "outputs": [],
   "source": [
    "import pandas as pd\n",
    "import glob\n",
    "\n",
    "# List all CSV files in the directory\n",
    "file_list = glob.glob(\"*.csv\")\n",
    "\n",
    "# Initialize an empty list to store DataFrames\n",
    "dfs = []\n",
    "\n",
    "# Iterate over each file, read it, and append it to the list\n",
    "for file in file_list:\n",
    "    df = pd.read_csv(file)\n",
    "    dfs.append(df)\n",
    "\n",
    "# Concatenate all DataFrames in the list\n",
    "combined_df = pd.concat(dfs, ignore_index=True)\n",
    "\n",
    "# Save the combined DataFrame to a new CSV file\n",
    "combined_df.to_csv(\"MandirMarg_2018_2023.csv\", index=False)\n"
   ]
  },
  {
   "cell_type": "markdown",
   "metadata": {},
   "source": [
    "## checking null values"
   ]
  },
  {
   "cell_type": "code",
   "execution_count": 24,
   "metadata": {},
   "outputs": [
    {
     "data": {
      "text/plain": [
       "Time Stamp       0\n",
       "PM2.5         3047\n",
       "PM10          2817\n",
       "CO            5531\n",
       "NO2           3454\n",
       "SO2           5761\n",
       "Ozone         3200\n",
       "dtype: int64"
      ]
     },
     "execution_count": 24,
     "metadata": {},
     "output_type": "execute_result"
    }
   ],
   "source": [
    "#count the null values in each column\n",
    "combined_df.isnull().sum()"
   ]
  },
  {
   "cell_type": "markdown",
   "metadata": {},
   "source": [
    "## Interpolating missing values"
   ]
  },
  {
   "cell_type": "code",
   "execution_count": 25,
   "metadata": {},
   "outputs": [
    {
     "name": "stderr",
     "output_type": "stream",
     "text": [
      "C:\\Users\\jetha\\AppData\\Local\\Temp\\ipykernel_29616\\3858910929.py:2: FutureWarning: DataFrame.interpolate with object dtype is deprecated and will raise in a future version. Call obj.infer_objects(copy=False) before interpolating instead.\n",
      "  combined_df = combined_df.interpolate()\n"
     ]
    }
   ],
   "source": [
    "#interpolate the missing values\n",
    "combined_df = combined_df.interpolate()\n"
   ]
  },
  {
   "cell_type": "code",
   "execution_count": 26,
   "metadata": {},
   "outputs": [
    {
     "data": {
      "text/plain": [
       "Time Stamp    0\n",
       "PM2.5         0\n",
       "PM10          0\n",
       "CO            0\n",
       "NO2           0\n",
       "SO2           0\n",
       "Ozone         0\n",
       "dtype: int64"
      ]
     },
     "execution_count": 26,
     "metadata": {},
     "output_type": "execute_result"
    }
   ],
   "source": [
    "#count the null values in each column\n",
    "combined_df.isnull().sum()"
   ]
  },
  {
   "cell_type": "code",
   "execution_count": 27,
   "metadata": {},
   "outputs": [
    {
     "data": {
      "text/plain": [
       "Time Stamp       0\n",
       "PM2.5         3047\n",
       "PM10          2817\n",
       "CO            5531\n",
       "NO2           3454\n",
       "SO2           5761\n",
       "Ozone         3200\n",
       "dtype: int64"
      ]
     },
     "execution_count": 27,
     "metadata": {},
     "output_type": "execute_result"
    }
   ],
   "source": [
    "#read MandirMarg_2018_2023.csv\n",
    "df = pd.read_csv(\"MandirMarg_2018_2023.csv\")\n",
    "df.isnull().sum()"
   ]
  },
  {
   "cell_type": "code",
   "execution_count": 28,
   "metadata": {},
   "outputs": [
    {
     "name": "stderr",
     "output_type": "stream",
     "text": [
      "C:\\Users\\jetha\\AppData\\Local\\Temp\\ipykernel_29616\\4033868947.py:2: FutureWarning: DataFrame.interpolate with object dtype is deprecated and will raise in a future version. Call obj.infer_objects(copy=False) before interpolating instead.\n",
      "  df = df.interpolate()\n"
     ]
    }
   ],
   "source": [
    "#interpolate the missing values\n",
    "df = df.interpolate()\n"
   ]
  },
  {
   "cell_type": "code",
   "execution_count": 29,
   "metadata": {},
   "outputs": [],
   "source": [
    "#save the cleaned data to the CSV file\n",
    "df.to_csv(\"MandirMarg_2018_2023.csv\", index=False)"
   ]
  },
  {
   "cell_type": "code",
   "execution_count": null,
   "metadata": {},
   "outputs": [],
   "source": []
  }
 ],
 "metadata": {
  "kernelspec": {
   "display_name": "Python 3",
   "language": "python",
   "name": "python3"
  },
  "language_info": {
   "codemirror_mode": {
    "name": "ipython",
    "version": 3
   },
   "file_extension": ".py",
   "mimetype": "text/x-python",
   "name": "python",
   "nbconvert_exporter": "python",
   "pygments_lexer": "ipython3",
   "version": "3.11.6"
  }
 },
 "nbformat": 4,
 "nbformat_minor": 2
}
